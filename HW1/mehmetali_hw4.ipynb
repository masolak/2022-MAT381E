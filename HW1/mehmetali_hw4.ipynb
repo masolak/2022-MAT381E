{
 "cells": [
  {
   "cell_type": "code",
   "execution_count": 1,
   "id": "cca5ec37-e3f7-41ab-b9d7-7554760a8d2e",
   "metadata": {},
   "outputs": [],
   "source": [
    "import math\n",
    "import pandas as pd\n",
    "import numpy as np\n",
    "\n",
    "import warnings\n",
    "warnings.filterwarnings(\"ignore\")"
   ]
  },
  {
   "cell_type": "code",
   "execution_count": 2,
   "id": "d82ccbe6-6264-4351-b1e6-095f5fbefbfc",
   "metadata": {},
   "outputs": [],
   "source": [
    "from urllib.request import urlopen"
   ]
  },
  {
   "cell_type": "code",
   "execution_count": 2,
   "id": "bc97839e-f96c-4f89-8c14-0414e22ef2c4",
   "metadata": {},
   "outputs": [],
   "source": [
    "chess = pd.read_csv('https://raw.githubusercontent.com/fivethirtyeight/data/master/chess-transfers/transfers.csv')"
   ]
  },
  {
   "cell_type": "code",
   "execution_count": 5,
   "id": "ef70d127-bebe-4b9e-bba9-805c53195800",
   "metadata": {},
   "outputs": [
    {
     "data": {
      "text/plain": [
       "'https://ratings.fide.com/fedchange.phtml?year=2000'"
      ]
     },
     "execution_count": 5,
     "metadata": {},
     "output_type": "execute_result"
    }
   ],
   "source": [
    "chess.url[0]"
   ]
  },
  {
   "cell_type": "code",
   "execution_count": 3,
   "id": "61fd4065-a4f6-43a8-a2c4-71457d271538",
   "metadata": {},
   "outputs": [],
   "source": [
    "del chess['url']"
   ]
  },
  {
   "cell_type": "code",
   "execution_count": 4,
   "id": "133600dd-4a49-4b2a-b834-ae2cbc0df840",
   "metadata": {},
   "outputs": [],
   "source": [
    "count_df=pd.DataFrame()"
   ]
  },
  {
   "cell_type": "code",
   "execution_count": 5,
   "id": "5f290c09-0675-4176-93d7-26316d6b1964",
   "metadata": {},
   "outputs": [],
   "source": [
    "count_df['Federation']=chess.Federation.value_counts().index"
   ]
  },
  {
   "cell_type": "code",
   "execution_count": 6,
   "id": "f317d512-8836-4392-8aed-cba6c0b7f3f5",
   "metadata": {},
   "outputs": [],
   "source": [
    "count_df['transfer_count']=chess.Federation.value_counts().values"
   ]
  },
  {
   "cell_type": "code",
   "execution_count": 7,
   "id": "135064cd-1d3f-4a9a-a890-36f2eae428d8",
   "metadata": {},
   "outputs": [
    {
     "data": {
      "text/plain": [
       "<AxesSubplot:xlabel='Federation'>"
      ]
     },
     "execution_count": 7,
     "metadata": {},
     "output_type": "execute_result"
    },
    {
     "data": {
      "image/png": "[encoded data removed]",
      "text/plain": [
       "<Figure size 432x288 with 1 Axes>"
      ]
     },
     "metadata": {
      "needs_background": "light"
     },
     "output_type": "display_data"
    }
   ],
   "source": [
    "count_df.head(10).plot.bar(x='Federation',y='transfer_count')"
   ]
  },
  {
   "cell_type": "code",
   "execution_count": 8,
   "id": "a90966f4-5e7d-4768-b88d-c628cd195ee0",
   "metadata": {},
   "outputs": [],
   "source": [
    "count_dict=chess.value_counts(['Form.Fed','Federation']).to_dict()"
   ]
  },
  {
   "cell_type": "code",
   "execution_count": 9,
   "id": "5c0f28cf-f212-4fe2-8e08-817fc78b6e02",
   "metadata": {},
   "outputs": [],
   "source": [
    "count_dict={k:v for k,v in count_dict.items() if v>=5}"
   ]
  },
  {
   "cell_type": "code",
   "execution_count": 67,
   "id": "399cccb9-dc56-47ba-a067-f480ac06fdfa",
   "metadata": {},
   "outputs": [],
   "source": [
    "import networkx as nx\n",
    "import matplotlib.pyplot as plt\n"
   ]
  },
  {
   "cell_type": "code",
   "execution_count": 11,
   "id": "6dc03b92-9dfb-4a50-b388-d69bd2e450fd",
   "metadata": {},
   "outputs": [],
   "source": [
    "dg = nx.DiGraph()"
   ]
  },
  {
   "cell_type": "code",
   "execution_count": 12,
   "id": "6debefbd-9957-4266-9010-3b271d509526",
   "metadata": {},
   "outputs": [],
   "source": [
    "for k,v in count_dict.items():\n",
    "    dg.add_edge(k[0],k[1],weight=v)"
   ]
  },
  {
   "cell_type": "code",
   "execution_count": 14,
   "id": "6517775d-9f6e-40aa-8a48-edc430e64dee",
   "metadata": {},
   "outputs": [
    {
     "ename": "AttributeError",
     "evalue": "module 'matplotlib.cbook' has no attribute 'iterable'",
     "output_type": "error",
     "traceback": [
      "\u001b[0;31m---------------------------------------------------------------------------\u001b[0m",
      "\u001b[0;31mAttributeError\u001b[0m                            Traceback (most recent call last)",
      "Input \u001b[0;32mIn [14]\u001b[0m, in \u001b[0;36m<module>\u001b[0;34m\u001b[0m\n\u001b[0;32m----> 1\u001b[0m \u001b[43mnx\u001b[49m\u001b[38;5;241;43m.\u001b[39;49m\u001b[43mdraw_networkx\u001b[49m\u001b[43m(\u001b[49m\u001b[43mdg\u001b[49m\u001b[43m)\u001b[49m\n",
      "File \u001b[0;32m~/.local/lib/python3.8/site-packages/networkx/drawing/nx_pylab.py:280\u001b[0m, in \u001b[0;36mdraw_networkx\u001b[0;34m(G, pos, arrows, with_labels, **kwds)\u001b[0m\n\u001b[1;32m    277\u001b[0m     pos \u001b[38;5;241m=\u001b[39m nx\u001b[38;5;241m.\u001b[39mdrawing\u001b[38;5;241m.\u001b[39mspring_layout(G)  \u001b[38;5;66;03m# default to spring layout\u001b[39;00m\n\u001b[1;32m    279\u001b[0m node_collection \u001b[38;5;241m=\u001b[39m draw_networkx_nodes(G, pos, \u001b[38;5;241m*\u001b[39m\u001b[38;5;241m*\u001b[39mkwds)\n\u001b[0;32m--> 280\u001b[0m edge_collection \u001b[38;5;241m=\u001b[39m \u001b[43mdraw_networkx_edges\u001b[49m\u001b[43m(\u001b[49m\u001b[43mG\u001b[49m\u001b[43m,\u001b[49m\u001b[43m \u001b[49m\u001b[43mpos\u001b[49m\u001b[43m,\u001b[49m\u001b[43m \u001b[49m\u001b[43marrows\u001b[49m\u001b[38;5;241;43m=\u001b[39;49m\u001b[43marrows\u001b[49m\u001b[43m,\u001b[49m\u001b[43m \u001b[49m\u001b[38;5;241;43m*\u001b[39;49m\u001b[38;5;241;43m*\u001b[39;49m\u001b[43mkwds\u001b[49m\u001b[43m)\u001b[49m\n\u001b[1;32m    281\u001b[0m \u001b[38;5;28;01mif\u001b[39;00m with_labels:\n\u001b[1;32m    282\u001b[0m     draw_networkx_labels(G, pos, \u001b[38;5;241m*\u001b[39m\u001b[38;5;241m*\u001b[39mkwds)\n",
      "File \u001b[0;32m~/.local/lib/python3.8/site-packages/networkx/drawing/nx_pylab.py:579\u001b[0m, in \u001b[0;36mdraw_networkx_edges\u001b[0;34m(G, pos, edgelist, width, edge_color, style, alpha, arrowstyle, arrowsize, edge_cmap, edge_vmin, edge_vmax, ax, arrows, label, node_size, nodelist, node_shape, connectionstyle, **kwds)\u001b[0m\n\u001b[1;32m    576\u001b[0m \u001b[38;5;66;03m# set edge positions\u001b[39;00m\n\u001b[1;32m    577\u001b[0m edge_pos \u001b[38;5;241m=\u001b[39m np\u001b[38;5;241m.\u001b[39masarray([(pos[e[\u001b[38;5;241m0\u001b[39m]], pos[e[\u001b[38;5;241m1\u001b[39m]]) \u001b[38;5;28;01mfor\u001b[39;00m e \u001b[38;5;129;01min\u001b[39;00m edgelist])\n\u001b[0;32m--> 579\u001b[0m \u001b[38;5;28;01mif\u001b[39;00m \u001b[38;5;129;01mnot\u001b[39;00m \u001b[43mcb\u001b[49m\u001b[38;5;241;43m.\u001b[39;49m\u001b[43miterable\u001b[49m(width):\n\u001b[1;32m    580\u001b[0m     lw \u001b[38;5;241m=\u001b[39m (width,)\n\u001b[1;32m    581\u001b[0m \u001b[38;5;28;01melse\u001b[39;00m:\n",
      "\u001b[0;31mAttributeError\u001b[0m: module 'matplotlib.cbook' has no attribute 'iterable'"
     ]
    },
    {
     "data": {
      "image/png": "[encoded data removed]",
      "text/plain": [
       "<Figure size 432x288 with 1 Axes>"
      ]
     },
     "metadata": {},
     "output_type": "display_data"
    }
   ],
   "source": [
    "nx.draw_networkx(dg)"
   ]
  },
  {
   "cell_type": "code",
   "execution_count": 2,
   "id": "fff22555-11eb-48b7-9195-7be796d4a293",
   "metadata": {},
   "outputs": [],
   "source": [
    "\n",
    "\n",
    "nba= pd.read_csv('https://sports-statistics.com/database/basketball-data/nba/2018-19_pbp.csv')"
   ]
  },
  {
   "cell_type": "code",
   "execution_count": 3,
   "id": "75eb096e-f00c-4a30-a7ab-9f7d56792ce1",
   "metadata": {},
   "outputs": [
    {
     "data": {
      "text/plain": [
       "Index(['Unnamed: 0', 'EVENTMSGACTIONTYPE', 'EVENTMSGTYPE', 'EVENTNUM',\n",
       "       'GAME_ID', 'HOMEDESCRIPTION', 'NEUTRALDESCRIPTION', 'PCTIMESTRING',\n",
       "       'PERIOD', 'PERSON1TYPE', 'PERSON2TYPE', 'PERSON3TYPE', 'PLAYER1_ID',\n",
       "       'PLAYER1_NAME', 'PLAYER1_TEAM_ABBREVIATION', 'PLAYER1_TEAM_CITY',\n",
       "       'PLAYER1_TEAM_ID', 'PLAYER1_TEAM_NICKNAME', 'PLAYER2_ID',\n",
       "       'PLAYER2_NAME', 'PLAYER2_TEAM_ABBREVIATION', 'PLAYER2_TEAM_CITY',\n",
       "       'PLAYER2_TEAM_ID', 'PLAYER2_TEAM_NICKNAME', 'PLAYER3_ID',\n",
       "       'PLAYER3_NAME', 'PLAYER3_TEAM_ABBREVIATION', 'PLAYER3_TEAM_CITY',\n",
       "       'PLAYER3_TEAM_ID', 'PLAYER3_TEAM_NICKNAME', 'SCORE', 'SCOREMARGIN',\n",
       "       'VISITORDESCRIPTION', 'WCTIMESTRING'],\n",
       "      dtype='object')"
      ]
     },
     "execution_count": 3,
     "metadata": {},
     "output_type": "execute_result"
    }
   ],
   "source": [
    "nba.columns"
   ]
  },
  {
   "cell_type": "code",
   "execution_count": 4,
   "id": "859137d9-4389-449b-86fd-a0603ddd31c9",
   "metadata": {},
   "outputs": [],
   "source": [
    "nba=nba.loc[:,['PLAYER1_ID', 'PLAYER1_NAME', 'PLAYER2_ID', 'PLAYER2_NAME', 'PLAYER3_ID', 'PLAYER3_NAME']]"
   ]
  },
  {
   "cell_type": "code",
   "execution_count": 5,
   "id": "eb7e8fa0-27bd-4203-ad72-ca071e16e80b",
   "metadata": {},
   "outputs": [],
   "source": [
    "nba.loc[(nba.PLAYER3_NAME.notnull())&(nba.PLAYER2_NAME.isnull()),['PLAYER2_ID', 'PLAYER2_NAME', 'PLAYER3_ID', 'PLAYER3_NAME']]=nba.loc[(nba.PLAYER3_NAME.notnull())&(nba.PLAYER2_NAME.isnull()),['PLAYER3_ID', 'PLAYER3_NAME', 'PLAYER2_ID', 'PLAYER2_NAME']].values"
   ]
  },
  {
   "cell_type": "code",
   "execution_count": 6,
   "id": "5ac32419-9c67-4391-96c7-40f2c61b5050",
   "metadata": {},
   "outputs": [],
   "source": [
    "nba_2=nba.loc[(nba.PLAYER2_NAME.notnull())&(nba.PLAYER3_NAME.isnull())]"
   ]
  },
  {
   "cell_type": "code",
   "execution_count": 7,
   "id": "9e4adb29-f3a6-441e-a90b-d37d4c9183d0",
   "metadata": {},
   "outputs": [],
   "source": [
    "nba_3=nba.loc[(nba.PLAYER3_NAME.notnull())]"
   ]
  },
  {
   "cell_type": "code",
   "execution_count": 8,
   "id": "39d848e8-5b3b-44aa-97ee-072949a6ca52",
   "metadata": {},
   "outputs": [],
   "source": [
    "nba_2_df=nba_2.value_counts(['PLAYER1_ID','PLAYER2_ID']).to_frame().reset_index().rename(columns={0:'counts'})\n",
    "\n",
    "nba_3_df_12=nba_3.value_counts(['PLAYER1_ID','PLAYER2_ID']).to_frame().reset_index().rename(columns={0:'counts'})\n",
    "\n",
    "nba_3_df_13=nba_3.value_counts(['PLAYER1_ID','PLAYER3_ID']).to_frame().reset_index().rename(columns={0:'counts','PLAYER3_ID':'PLAYER2_ID'})\n",
    "\n",
    "nba_3_df_23=nba_3.value_counts(['PLAYER2_ID','PLAYER3_ID']).to_frame().reset_index().rename(columns={0:'counts','PLAYER2_ID':'PLAYER1_ID','PLAYER3_ID':'PLAYER2_ID'})"
   ]
  },
  {
   "cell_type": "code",
   "execution_count": 9,
   "id": "2f126329-1778-40f4-9cf5-eb9777b150b3",
   "metadata": {},
   "outputs": [],
   "source": [
    "count_df=pd.concat([nba_2_df,nba_3_df_12,nba_3_df_13,nba_3_df_23])"
   ]
  },
  {
   "cell_type": "code",
   "execution_count": 10,
   "id": "d2c32d46-d34f-483e-b871-cb69002478e6",
   "metadata": {},
   "outputs": [],
   "source": [
    "all_counts_df=count_df.groupby(['PLAYER1_ID','PLAYER2_ID']).counts.sum().to_frame()"
   ]
  },
  {
   "cell_type": "code",
   "execution_count": 11,
   "id": "5916106e-83d1-442f-a319-887853705247",
   "metadata": {},
   "outputs": [],
   "source": [
    "all_counts_df=all_counts_df.sort_values('counts',ascending=False).reset_index()"
   ]
  },
  {
   "cell_type": "code",
   "execution_count": 12,
   "id": "e9b7022c-9995-441a-a268-223772afb1c2",
   "metadata": {},
   "outputs": [],
   "source": [
    "all_counts_df=all_counts_df.loc[all_counts_df.counts>=75]"
   ]
  },
  {
   "cell_type": "code",
   "execution_count": 72,
   "id": "fa1e0e6a-a82f-4e5b-9988-5765c6c6033e",
   "metadata": {},
   "outputs": [
    {
     "data": {
      "text/html": [
       "<div>\n",
       "<style scoped>\n",
       "    .dataframe tbody tr th:only-of-type {\n",
       "        vertical-align: middle;\n",
       "    }\n",
       "\n",
       "    .dataframe tbody tr th {\n",
       "        vertical-align: top;\n",
       "    }\n",
       "\n",
       "    .dataframe thead th {\n",
       "        text-align: right;\n",
       "    }\n",
       "</style>\n",
       "<table border=\"1\" class=\"dataframe\">\n",
       "  <thead>\n",
       "    <tr style=\"text-align: right;\">\n",
       "      <th></th>\n",
       "      <th>PLAYER1_ID</th>\n",
       "      <th>PLAYER2_ID</th>\n",
       "      <th>counts</th>\n",
       "    </tr>\n",
       "  </thead>\n",
       "  <tbody>\n",
       "    <tr>\n",
       "      <th>0</th>\n",
       "      <td>203991</td>\n",
       "      <td>201935</td>\n",
       "      <td>230</td>\n",
       "    </tr>\n",
       "    <tr>\n",
       "      <th>1</th>\n",
       "      <td>203500</td>\n",
       "      <td>201566</td>\n",
       "      <td>223</td>\n",
       "    </tr>\n",
       "    <tr>\n",
       "      <th>2</th>\n",
       "      <td>202696</td>\n",
       "      <td>201571</td>\n",
       "      <td>193</td>\n",
       "    </tr>\n",
       "    <tr>\n",
       "      <th>3</th>\n",
       "      <td>202331</td>\n",
       "      <td>201566</td>\n",
       "      <td>188</td>\n",
       "    </tr>\n",
       "    <tr>\n",
       "      <th>4</th>\n",
       "      <td>1626149</td>\n",
       "      <td>101150</td>\n",
       "      <td>186</td>\n",
       "    </tr>\n",
       "    <tr>\n",
       "      <th>...</th>\n",
       "      <td>...</td>\n",
       "      <td>...</td>\n",
       "      <td>...</td>\n",
       "    </tr>\n",
       "    <tr>\n",
       "      <th>158</th>\n",
       "      <td>204456</td>\n",
       "      <td>1627732</td>\n",
       "      <td>76</td>\n",
       "    </tr>\n",
       "    <tr>\n",
       "      <th>159</th>\n",
       "      <td>1627783</td>\n",
       "      <td>1628384</td>\n",
       "      <td>75</td>\n",
       "    </tr>\n",
       "    <tr>\n",
       "      <th>160</th>\n",
       "      <td>200752</td>\n",
       "      <td>202722</td>\n",
       "      <td>75</td>\n",
       "    </tr>\n",
       "    <tr>\n",
       "      <th>161</th>\n",
       "      <td>201960</td>\n",
       "      <td>203915</td>\n",
       "      <td>75</td>\n",
       "    </tr>\n",
       "    <tr>\n",
       "      <th>162</th>\n",
       "      <td>1627751</td>\n",
       "      <td>200746</td>\n",
       "      <td>75</td>\n",
       "    </tr>\n",
       "  </tbody>\n",
       "</table>\n",
       "<p>163 rows × 3 columns</p>\n",
       "</div>"
      ],
      "text/plain": [
       "     PLAYER1_ID  PLAYER2_ID  counts\n",
       "0        203991      201935     230\n",
       "1        203500      201566     223\n",
       "2        202696      201571     193\n",
       "3        202331      201566     188\n",
       "4       1626149      101150     186\n",
       "..          ...         ...     ...\n",
       "158      204456     1627732      76\n",
       "159     1627783     1628384      75\n",
       "160      200752      202722      75\n",
       "161      201960      203915      75\n",
       "162     1627751      200746      75\n",
       "\n",
       "[163 rows x 3 columns]"
      ]
     },
     "execution_count": 72,
     "metadata": {},
     "output_type": "execute_result"
    }
   ],
   "source": [
    "all_counts_df"
   ]
  },
  {
   "cell_type": "code",
   "execution_count": 13,
   "id": "43ad6054-95dc-4cbf-b87a-d4e206167d54",
   "metadata": {},
   "outputs": [],
   "source": [
    "from igraph import *"
   ]
  },
  {
   "cell_type": "code",
   "execution_count": 14,
   "id": "a2489da8-6cd7-4fcb-a67f-b2545a057e9b",
   "metadata": {},
   "outputs": [],
   "source": [
    "g = Graph()"
   ]
  },
  {
   "cell_type": "code",
   "execution_count": 15,
   "id": "9855e9b4-a61d-4a77-b44b-7d6e24244143",
   "metadata": {},
   "outputs": [],
   "source": [
    "all_ids=list(set(np.append(all_counts_df.PLAYER1_ID.unique(),all_counts_df.PLAYER2_ID.unique())))"
   ]
  },
  {
   "cell_type": "code",
   "execution_count": 16,
   "id": "3283c749-e3a5-4d37-97ab-9976ea2261db",
   "metadata": {},
   "outputs": [],
   "source": [
    "for player_id in all_ids:\n",
    "    g.add_vertices(player_id)"
   ]
  },
  {
   "cell_type": "code",
   "execution_count": 17,
   "id": "329b8e49-6f0a-42cb-853d-7bc1e94bf75b",
   "metadata": {},
   "outputs": [],
   "source": [
    "for row in all_counts_df.itertuples():\n",
    "    g.add_edge(row.PLAYER1_ID,row.PLAYER2_ID)"
   ]
  },
  {
   "cell_type": "code",
   "execution_count": null,
   "id": "a992720c-1813-4604-80f5-4cf2fa818a7a",
   "metadata": {},
   "outputs": [],
   "source": []
  },
  {
   "cell_type": "code",
   "execution_count": null,
   "id": "201d4b7c-5ed2-4bc9-9b7d-a71b07577647",
   "metadata": {},
   "outputs": [],
   "source": [
    "g.layout() ### this causes kernel is died error"
   ]
  },
  {
   "cell_type": "code",
   "execution_count": 3,
   "id": "62b0b218-9ff8-43f6-a3cf-b2a228caf127",
   "metadata": {},
   "outputs": [],
   "source": [
    "with urlopen('https://www.gutenberg.org/files/1400/1400-0.txt') as f:\n",
    "    raw = f.read()\n",
    "\n",
    "greatExpectations = raw[1900:1039269].decode('utf8')\n"
   ]
  },
  {
   "cell_type": "code",
   "execution_count": null,
   "id": "1304c5c1-81a6-43ce-b097-770476c0dd1f",
   "metadata": {},
   "outputs": [],
   "source": [
    "greatExpectations"
   ]
  },
  {
   "cell_type": "code",
   "execution_count": 5,
   "id": "c87b59a5-c168-4447-9bfe-d0513eae316e",
   "metadata": {},
   "outputs": [],
   "source": [
    "import nltk"
   ]
  },
  {
   "cell_type": "code",
   "execution_count": 7,
   "id": "300286f8-e9b2-496e-a4cf-f4da8928c8be",
   "metadata": {},
   "outputs": [
    {
     "name": "stderr",
     "output_type": "stream",
     "text": [
      "[nltk_data] Downloading package punkt to /home/mehmetali/nltk_data...\n",
      "[nltk_data]   Unzipping tokenizers/punkt.zip.\n"
     ]
    },
    {
     "data": {
      "text/plain": [
       "True"
      ]
     },
     "execution_count": 7,
     "metadata": {},
     "output_type": "execute_result"
    }
   ],
   "source": [
    "nltk.download('punkt')"
   ]
  },
  {
   "cell_type": "code",
   "execution_count": 20,
   "id": "ee53e54c-7016-4748-be24-19a88301a2a0",
   "metadata": {},
   "outputs": [],
   "source": [
    "tokenized_text=nltk.sent_tokenize(greatExpectations)"
   ]
  },
  {
   "cell_type": "code",
   "execution_count": 21,
   "id": "ef3d4f35-805e-492d-a967-9952af1f6f4d",
   "metadata": {},
   "outputs": [
    {
     "data": {
      "text/plain": [
       "'So, I called myself Pip, and came to be called Pip.'"
      ]
     },
     "execution_count": 21,
     "metadata": {},
     "output_type": "execute_result"
    }
   ],
   "source": [
    "tokenized_text[1]"
   ]
  },
  {
   "cell_type": "code",
   "execution_count": 19,
   "id": "3b906390-64eb-4334-b576-46c9eceaa992",
   "metadata": {},
   "outputs": [
    {
     "data": {
      "text/plain": [
       "<nltk.tokenize.punkt.PunktSentenceTokenizer at 0x7fa775dd31f0>"
      ]
     },
     "execution_count": 19,
     "metadata": {},
     "output_type": "execute_result"
    }
   ],
   "source": [
    "tokenized_text"
   ]
  },
  {
   "cell_type": "code",
   "execution_count": 22,
   "id": "fe78e56c-9b6c-4b0e-96fd-0758c63bc332",
   "metadata": {},
   "outputs": [],
   "source": [
    "punc = '''!()-[]{};:'\"\\,<>./?@#$%^&*_~'''\n"
   ]
  },
  {
   "cell_type": "code",
   "execution_count": 25,
   "id": "f12e8f86-ad24-4e38-ab5b-9c7543d2f6af",
   "metadata": {},
   "outputs": [],
   "source": [
    "for i in range(len(tokenized_text)):\n",
    "    for w in tokenized_text[i]:\n",
    "        if w in punc:\n",
    "            tokenized_text[i]=tokenized_text[i].replace(w,\"\")"
   ]
  },
  {
   "cell_type": "code",
   "execution_count": 31,
   "id": "2869d382-fa94-4103-a766-beecc856793b",
   "metadata": {},
   "outputs": [
    {
     "data": {
      "text/plain": [
       "array(['Barley', 'Biddy', 'Bill', 'Clara', 'Coiler', 'Compeyson',\n",
       "       'Drummle', 'Estella', 'Flopson', 'Handel', 'Havisham', 'Herbert',\n",
       "       'Herbert', 'Hubble', 'Jack', 'Jane', 'Joe', 'Joseph', 'Magwitch',\n",
       "       'Mike', 'Orlick', 'Orlick', 'Pip', 'Pocket', 'Provis',\n",
       "       'Pumblechook', 'Richard', 'Sarah', 'Skiffins', 'Spider', 'Tom',\n",
       "       'Wemmick', 'William', 'Wopsle', 'Wopsle'], dtype='<U11')"
      ]
     },
     "execution_count": 31,
     "metadata": {},
     "output_type": "execute_result"
    }
   ],
   "source": [
    "\n",
    "names = [\n",
    " 'Joe',\n",
    " 'Pip',\n",
    " 'Wopsle',\n",
    " 'Hubble',\n",
    " 'Pumblechook',\n",
    " 'Richard',\n",
    " 'Wopsle',\n",
    " 'Biddy',\n",
    " 'Havisham',\n",
    " 'Joseph',\n",
    " 'Sarah',\n",
    " 'Estella',\n",
    " 'Orlick',\n",
    " 'Mike',\n",
    " 'Wemmick',\n",
    " 'Herbert',\n",
    " 'Pocket',\n",
    " 'Jane',\n",
    " 'Flopson',\n",
    " 'Coiler',\n",
    " 'Drummle',\n",
    " 'Jack',\n",
    " 'Spider',\n",
    " 'Handel',\n",
    " 'Herbert',\n",
    " 'Clara',\n",
    " 'Skiffins',\n",
    " 'Magwitch',\n",
    " 'Provis',\n",
    " 'Compeyson',\n",
    " 'Tom',\n",
    " 'Bill',\n",
    " 'Barley',\n",
    " 'Orlick',\n",
    " 'William']\n",
    "\n",
    "names = np.array(sorted(names))\n",
    "names\n",
    "\n"
   ]
  },
  {
   "cell_type": "code",
   "execution_count": 41,
   "id": "1b542c7f-7b6f-4256-a653-ad9dc2f4daf1",
   "metadata": {},
   "outputs": [],
   "source": [
    "is_seen=[]"
   ]
  },
  {
   "cell_type": "code",
   "execution_count": 42,
   "id": "77b583c0-ddfa-4cdf-83f3-f63240574c76",
   "metadata": {},
   "outputs": [],
   "source": [
    "for i in range(len(tokenized_text)):\n",
    "    is_seen.append(np.isin(names,tokenized_text[i].split()).astype(int))\n",
    "    \n"
   ]
  },
  {
   "cell_type": "code",
   "execution_count": 45,
   "id": "8d407e1b-b43f-4be5-bc9a-d06c0f852a24",
   "metadata": {},
   "outputs": [],
   "source": [
    "df=pd.DataFrame(is_seen,columns=names)"
   ]
  },
  {
   "cell_type": "code",
   "execution_count": 53,
   "id": "b40cb333-a8e4-45c8-8975-238983b001f5",
   "metadata": {},
   "outputs": [],
   "source": [
    "from itertools import combinations"
   ]
  },
  {
   "cell_type": "code",
   "execution_count": 58,
   "id": "eb18bfce-fd2e-44da-bc98-47a623f5b37a",
   "metadata": {},
   "outputs": [],
   "source": [
    "mutual_seen_dict={}"
   ]
  },
  {
   "cell_type": "code",
   "execution_count": 60,
   "id": "ab0d6180-7f59-41af-b088-b6671d4286fb",
   "metadata": {},
   "outputs": [],
   "source": [
    "for name in combinations(names,2):\n",
    "    mutual_seen_dict[str(name)]=df.loc[:,list(name)].prod(axis=1).cumsum().iloc[-1]"
   ]
  },
  {
   "cell_type": "code",
   "execution_count": 64,
   "id": "88862f93-8207-4f37-b94c-966aee52f8d5",
   "metadata": {},
   "outputs": [],
   "source": [
    "mutual_seen_dict={k:v for k,v in mutual_seen_dict.items() if v>2}"
   ]
  },
  {
   "cell_type": "code",
   "execution_count": 68,
   "id": "b5518a65-3a9a-4680-ba59-a869896e83b8",
   "metadata": {},
   "outputs": [],
   "source": [
    "g = nx.Graph()"
   ]
  },
  {
   "cell_type": "code",
   "execution_count": 70,
   "id": "70511661-475b-45ca-bc05-e190f898ac02",
   "metadata": {},
   "outputs": [],
   "source": [
    "keys=list(mutual_seen_dict.keys())"
   ]
  },
  {
   "cell_type": "code",
   "execution_count": 71,
   "id": "1b8535b3-1502-43d9-a834-3c9257bf8150",
   "metadata": {},
   "outputs": [],
   "source": [
    "import ast"
   ]
  },
  {
   "cell_type": "code",
   "execution_count": 72,
   "id": "b98e0e4d-f3e1-4c15-b264-3fcf925eb8ca",
   "metadata": {},
   "outputs": [],
   "source": [
    "for k in keys:\n",
    "    k=ast.literal_eval(k)\n",
    "    g.add_edge(k[0],k[1])"
   ]
  },
  {
   "cell_type": "code",
   "execution_count": 75,
   "id": "bef10998-8afd-4d47-9bfd-70f5ae7878e1",
   "metadata": {},
   "outputs": [
    {
     "data": {
      "text/plain": [
       "EdgeView([('Barley', 'Bill'), ('Barley', 'Clara'), ('Barley', 'Herbert'), ('Clara', 'Herbert'), ('Herbert', 'Biddy'), ('Herbert', 'Drummle'), ('Herbert', 'Estella'), ('Herbert', 'Handel'), ('Herbert', 'Havisham'), ('Herbert', 'Herbert'), ('Herbert', 'Jack'), ('Herbert', 'Joe'), ('Herbert', 'Pocket'), ('Herbert', 'Provis'), ('Herbert', 'Tom'), ('Herbert', 'Wemmick'), ('Biddy', 'Estella'), ('Biddy', 'Joe'), ('Biddy', 'Pip'), ('Estella', 'Havisham'), ('Estella', 'Joe'), ('Joe', 'Havisham'), ('Joe', 'Hubble'), ('Joe', 'Orlick'), ('Joe', 'Pip'), ('Joe', 'Pumblechook'), ('Joe', 'Wopsle'), ('Pip', 'Havisham'), ('Pip', 'Pumblechook'), ('Pip', 'Wemmick'), ('Drummle', 'Pocket'), ('Pocket', 'Flopson'), ('Pocket', 'Havisham'), ('Pocket', 'Jane'), ('Pocket', 'Sarah'), ('Havisham', 'Pumblechook'), ('Havisham', 'Sarah'), ('Flopson', 'Jane'), ('Pumblechook', 'Hubble'), ('Pumblechook', 'Joseph'), ('Pumblechook', 'Wopsle'), ('Jack', 'Richard'), ('Jack', 'Tom'), ('Jack', 'Wemmick'), ('Provis', 'Orlick'), ('Tom', 'Richard'), ('Wemmick', 'Skiffins'), ('Hubble', 'Wopsle'), ('Wopsle', 'Wopsle'), ('Orlick', 'Orlick')])"
      ]
     },
     "execution_count": 75,
     "metadata": {},
     "output_type": "execute_result"
    }
   ],
   "source": [
    "g.edges()"
   ]
  },
  {
   "cell_type": "code",
   "execution_count": 76,
   "id": "bbd590dc-72a3-4a9e-907b-0ce5cb55b6d5",
   "metadata": {},
   "outputs": [
    {
     "ename": "AttributeError",
     "evalue": "module 'matplotlib.cbook' has no attribute 'iterable'",
     "output_type": "error",
     "traceback": [
      "\u001b[0;31m---------------------------------------------------------------------------\u001b[0m",
      "\u001b[0;31mAttributeError\u001b[0m                            Traceback (most recent call last)",
      "Input \u001b[0;32mIn [76]\u001b[0m, in \u001b[0;36m<module>\u001b[0;34m\u001b[0m\n\u001b[0;32m----> 1\u001b[0m \u001b[43mnx\u001b[49m\u001b[38;5;241;43m.\u001b[39;49m\u001b[43mdraw_networkx\u001b[49m\u001b[43m(\u001b[49m\u001b[43mg\u001b[49m\u001b[43m)\u001b[49m\n",
      "File \u001b[0;32m~/.local/lib/python3.8/site-packages/networkx/drawing/nx_pylab.py:280\u001b[0m, in \u001b[0;36mdraw_networkx\u001b[0;34m(G, pos, arrows, with_labels, **kwds)\u001b[0m\n\u001b[1;32m    277\u001b[0m     pos \u001b[38;5;241m=\u001b[39m nx\u001b[38;5;241m.\u001b[39mdrawing\u001b[38;5;241m.\u001b[39mspring_layout(G)  \u001b[38;5;66;03m# default to spring layout\u001b[39;00m\n\u001b[1;32m    279\u001b[0m node_collection \u001b[38;5;241m=\u001b[39m draw_networkx_nodes(G, pos, \u001b[38;5;241m*\u001b[39m\u001b[38;5;241m*\u001b[39mkwds)\n\u001b[0;32m--> 280\u001b[0m edge_collection \u001b[38;5;241m=\u001b[39m \u001b[43mdraw_networkx_edges\u001b[49m\u001b[43m(\u001b[49m\u001b[43mG\u001b[49m\u001b[43m,\u001b[49m\u001b[43m \u001b[49m\u001b[43mpos\u001b[49m\u001b[43m,\u001b[49m\u001b[43m \u001b[49m\u001b[43marrows\u001b[49m\u001b[38;5;241;43m=\u001b[39;49m\u001b[43marrows\u001b[49m\u001b[43m,\u001b[49m\u001b[43m \u001b[49m\u001b[38;5;241;43m*\u001b[39;49m\u001b[38;5;241;43m*\u001b[39;49m\u001b[43mkwds\u001b[49m\u001b[43m)\u001b[49m\n\u001b[1;32m    281\u001b[0m \u001b[38;5;28;01mif\u001b[39;00m with_labels:\n\u001b[1;32m    282\u001b[0m     draw_networkx_labels(G, pos, \u001b[38;5;241m*\u001b[39m\u001b[38;5;241m*\u001b[39mkwds)\n",
      "File \u001b[0;32m~/.local/lib/python3.8/site-packages/networkx/drawing/nx_pylab.py:579\u001b[0m, in \u001b[0;36mdraw_networkx_edges\u001b[0;34m(G, pos, edgelist, width, edge_color, style, alpha, arrowstyle, arrowsize, edge_cmap, edge_vmin, edge_vmax, ax, arrows, label, node_size, nodelist, node_shape, connectionstyle, **kwds)\u001b[0m\n\u001b[1;32m    576\u001b[0m \u001b[38;5;66;03m# set edge positions\u001b[39;00m\n\u001b[1;32m    577\u001b[0m edge_pos \u001b[38;5;241m=\u001b[39m np\u001b[38;5;241m.\u001b[39masarray([(pos[e[\u001b[38;5;241m0\u001b[39m]], pos[e[\u001b[38;5;241m1\u001b[39m]]) \u001b[38;5;28;01mfor\u001b[39;00m e \u001b[38;5;129;01min\u001b[39;00m edgelist])\n\u001b[0;32m--> 579\u001b[0m \u001b[38;5;28;01mif\u001b[39;00m \u001b[38;5;129;01mnot\u001b[39;00m \u001b[43mcb\u001b[49m\u001b[38;5;241;43m.\u001b[39;49m\u001b[43miterable\u001b[49m(width):\n\u001b[1;32m    580\u001b[0m     lw \u001b[38;5;241m=\u001b[39m (width,)\n\u001b[1;32m    581\u001b[0m \u001b[38;5;28;01melse\u001b[39;00m:\n",
      "\u001b[0;31mAttributeError\u001b[0m: module 'matplotlib.cbook' has no attribute 'iterable'"
     ]
    },
    {
     "data": {
      "image/png": "[encoded data removed]",
      "text/plain": [
       "<Figure size 432x288 with 1 Axes>"
      ]
     },
     "metadata": {},
     "output_type": "display_data"
    }
   ],
   "source": [
    "nx.draw_networkx(g)"
   ]
  },
  {
   "cell_type": "code",
   "execution_count": null,
   "id": "928e2134-5235-42f9-991c-842e124a3947",
   "metadata": {},
   "outputs": [],
   "source": []
  }
 ],
 "metadata": {
  "kernelspec": {
   "display_name": "Python 3 (ipykernel)",
   "language": "python",
   "name": "python3"
  },
  "language_info": {
   "codemirror_mode": {
    "name": "ipython",
    "version": 3
   },
   "file_extension": ".py",
   "mimetype": "text/x-python",
   "name": "python",
   "nbconvert_exporter": "python",
   "pygments_lexer": "ipython3",
   "version": "3.8.8"
  }
 },
 "nbformat": 4,
 "nbformat_minor": 5
}
