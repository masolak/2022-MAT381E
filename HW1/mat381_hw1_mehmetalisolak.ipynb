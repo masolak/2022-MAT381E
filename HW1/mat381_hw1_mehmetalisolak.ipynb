{
 "cells": [
  {
   "cell_type": "code",
   "execution_count": 1,
   "id": "7bf292dd-3cd3-4764-b1fb-4f5bf6ff4576",
   "metadata": {},
   "outputs": [],
   "source": [
    "import pandas as pd\n",
    "import numpy as np"
   ]
  },
  {
   "cell_type": "code",
   "execution_count": 85,
   "id": "fb71300a-1fe9-4d7c-a639-0c7bb0ca9632",
   "metadata": {},
   "outputs": [],
   "source": [
    "### QUESTION 2"
   ]
  },
  {
   "cell_type": "code",
   "execution_count": 92,
   "id": "a4779766-1e16-4259-b0f5-1e7ee77e29ec",
   "metadata": {},
   "outputs": [],
   "source": [
    "## The datasets contains number of ferry trips for each destination in Istanbul"
   ]
  },
  {
   "cell_type": "code",
   "execution_count": 6,
   "id": "2b161d41-3eb3-44ed-86c1-6fcad87f4996",
   "metadata": {},
   "outputs": [],
   "source": [
    "df_21=pd.read_csv('2021-yl-ehir-hatlar-sefer-saylar.csv',encoding='iso8859_9',sep=';')"
   ]
  },
  {
   "cell_type": "code",
   "execution_count": 8,
   "id": "5b8928d4-c009-43e2-a593-882a898c456c",
   "metadata": {},
   "outputs": [],
   "source": [
    "df_20=pd.read_csv('2020-yl-ehir-hatlar-sefer-saylar.csv',encoding='iso8859_9',sep=';')"
   ]
  },
  {
   "cell_type": "code",
   "execution_count": 87,
   "id": "a0789285-0180-4866-bef7-acd05ef1041e",
   "metadata": {},
   "outputs": [
    {
     "data": {
      "text/html": [
       "<div>\n",
       "<style scoped>\n",
       "    .dataframe tbody tr th:only-of-type {\n",
       "        vertical-align: middle;\n",
       "    }\n",
       "\n",
       "    .dataframe tbody tr th {\n",
       "        vertical-align: top;\n",
       "    }\n",
       "\n",
       "    .dataframe thead th {\n",
       "        text-align: right;\n",
       "    }\n",
       "</style>\n",
       "<table border=\"1\" class=\"dataframe\">\n",
       "  <thead>\n",
       "    <tr style=\"text-align: right;\">\n",
       "      <th></th>\n",
       "      <th>yıl</th>\n",
       "      <th>güzergah</th>\n",
       "      <th>toplam_sefer_adeti</th>\n",
       "    </tr>\n",
       "  </thead>\n",
       "  <tbody>\n",
       "    <tr>\n",
       "      <th>0</th>\n",
       "      <td>2020</td>\n",
       "      <td>BEŞİKTAŞ - KADIKÖY</td>\n",
       "      <td>26.879</td>\n",
       "    </tr>\n",
       "    <tr>\n",
       "      <th>1</th>\n",
       "      <td>2020</td>\n",
       "      <td>KADIKÖY - KARAKÖY - BEŞİKTAŞ</td>\n",
       "      <td>13.000</td>\n",
       "    </tr>\n",
       "    <tr>\n",
       "      <th>2</th>\n",
       "      <td>2020</td>\n",
       "      <td>EMİNÖNÜ - ÜSKÜDAR</td>\n",
       "      <td>28.441</td>\n",
       "    </tr>\n",
       "    <tr>\n",
       "      <th>3</th>\n",
       "      <td>2020</td>\n",
       "      <td>ÜSKÜDAR - KARAKÖY - EMİNÖNÜ</td>\n",
       "      <td>8.737</td>\n",
       "    </tr>\n",
       "    <tr>\n",
       "      <th>4</th>\n",
       "      <td>2020</td>\n",
       "      <td>KADIKÖY - EMİNÖNÜ</td>\n",
       "      <td>18.408</td>\n",
       "    </tr>\n",
       "  </tbody>\n",
       "</table>\n",
       "</div>"
      ],
      "text/plain": [
       "    yıl                      güzergah  toplam_sefer_adeti\n",
       "0  2020            BEŞİKTAŞ - KADIKÖY              26.879\n",
       "1  2020  KADIKÖY - KARAKÖY - BEŞİKTAŞ              13.000\n",
       "2  2020             EMİNÖNÜ - ÜSKÜDAR              28.441\n",
       "3  2020   ÜSKÜDAR - KARAKÖY - EMİNÖNÜ               8.737\n",
       "4  2020             KADIKÖY - EMİNÖNÜ              18.408"
      ]
     },
     "execution_count": 87,
     "metadata": {},
     "output_type": "execute_result"
    }
   ],
   "source": [
    "df_20.head()"
   ]
  },
  {
   "cell_type": "code",
   "execution_count": 91,
   "id": "af1ced58-cbce-4778-86c4-c398d87236a4",
   "metadata": {},
   "outputs": [
    {
     "data": {
      "text/html": [
       "<div>\n",
       "<style scoped>\n",
       "    .dataframe tbody tr th:only-of-type {\n",
       "        vertical-align: middle;\n",
       "    }\n",
       "\n",
       "    .dataframe tbody tr th {\n",
       "        vertical-align: top;\n",
       "    }\n",
       "\n",
       "    .dataframe thead th {\n",
       "        text-align: right;\n",
       "    }\n",
       "</style>\n",
       "<table border=\"1\" class=\"dataframe\">\n",
       "  <thead>\n",
       "    <tr style=\"text-align: right;\">\n",
       "      <th></th>\n",
       "      <th>yıl</th>\n",
       "      <th>güzergah</th>\n",
       "      <th>toplam_sefer_adeti</th>\n",
       "    </tr>\n",
       "  </thead>\n",
       "  <tbody>\n",
       "    <tr>\n",
       "      <th>0</th>\n",
       "      <td>2021.0</td>\n",
       "      <td>BEŞİKTAŞ-KADIKÖY</td>\n",
       "      <td>23.658</td>\n",
       "    </tr>\n",
       "    <tr>\n",
       "      <th>1</th>\n",
       "      <td>2021.0</td>\n",
       "      <td>EMİNÖNÜ-ÜSKÜDAR</td>\n",
       "      <td>23.854</td>\n",
       "    </tr>\n",
       "    <tr>\n",
       "      <th>2</th>\n",
       "      <td>2021.0</td>\n",
       "      <td>EMİNÖNÜ-KADIKÖY</td>\n",
       "      <td>18.298</td>\n",
       "    </tr>\n",
       "    <tr>\n",
       "      <th>3</th>\n",
       "      <td>2021.0</td>\n",
       "      <td>EMİNÖNÜ-BEŞİKTAŞ-KUZGUNCUK-BEYLERBEYİ-ÇENGELKÖ...</td>\n",
       "      <td>497.000</td>\n",
       "    </tr>\n",
       "    <tr>\n",
       "      <th>4</th>\n",
       "      <td>2021.0</td>\n",
       "      <td>EMİNÖNÜ-BEŞİKTAŞ-ORTAKÖY-EMİRGAN-PAŞABAHÇE-BEY...</td>\n",
       "      <td>545.000</td>\n",
       "    </tr>\n",
       "  </tbody>\n",
       "</table>\n",
       "</div>"
      ],
      "text/plain": [
       "      yıl                                           güzergah  \\\n",
       "0  2021.0                                  BEŞİKTAŞ-KADIKÖY    \n",
       "1  2021.0                                    EMİNÖNÜ-ÜSKÜDAR   \n",
       "2  2021.0                                    EMİNÖNÜ-KADIKÖY   \n",
       "3  2021.0  EMİNÖNÜ-BEŞİKTAŞ-KUZGUNCUK-BEYLERBEYİ-ÇENGELKÖ...   \n",
       "4  2021.0  EMİNÖNÜ-BEŞİKTAŞ-ORTAKÖY-EMİRGAN-PAŞABAHÇE-BEY...   \n",
       "\n",
       "   toplam_sefer_adeti  \n",
       "0              23.658  \n",
       "1              23.854  \n",
       "2              18.298  \n",
       "3             497.000  \n",
       "4             545.000  "
      ]
     },
     "execution_count": 91,
     "metadata": {},
     "output_type": "execute_result"
    }
   ],
   "source": [
    "df_21.head()"
   ]
  },
  {
   "cell_type": "code",
   "execution_count": 11,
   "id": "60b440e2-46a5-46f9-b2a6-876aeed0294a",
   "metadata": {},
   "outputs": [],
   "source": [
    "df_21.dropna(inplace=True)"
   ]
  },
  {
   "cell_type": "code",
   "execution_count": 15,
   "id": "69882b3c-45a0-4c17-9bcd-941507d66c03",
   "metadata": {},
   "outputs": [
    {
     "data": {
      "text/plain": [
       "5851.006"
      ]
     },
     "execution_count": 15,
     "metadata": {},
     "output_type": "execute_result"
    }
   ],
   "source": [
    "df_20['TOPLAM SEFER ADETİ'].sum()"
   ]
  },
  {
   "cell_type": "code",
   "execution_count": 18,
   "id": "efa7929c-eaf1-4a41-925b-fe5dc66b84dd",
   "metadata": {},
   "outputs": [
    {
     "data": {
      "text/plain": [
       "8956.094999999998"
      ]
     },
     "execution_count": 18,
     "metadata": {},
     "output_type": "execute_result"
    }
   ],
   "source": [
    "df_21['Toplam Sefer Adeti'].sum()"
   ]
  },
  {
   "cell_type": "code",
   "execution_count": 20,
   "id": "71b34ad8-6d54-4d77-969c-c294a25b5d0d",
   "metadata": {},
   "outputs": [],
   "source": [
    "from collections import defaultdict"
   ]
  },
  {
   "cell_type": "code",
   "execution_count": 29,
   "id": "9a022897-78dd-4eee-bc38-0b6ea172cb3b",
   "metadata": {},
   "outputs": [],
   "source": [
    "def def_value():\n",
    "    return 0"
   ]
  },
  {
   "cell_type": "code",
   "execution_count": 32,
   "id": "a26984eb-0e7d-4943-811c-c598f3cc9acf",
   "metadata": {},
   "outputs": [],
   "source": [
    "df_20.columns=['yıl','güzergah','toplam_sefer_adeti']\n",
    "\n",
    "df_21.columns=['yıl','güzergah','toplam_sefer_adeti']"
   ]
  },
  {
   "cell_type": "code",
   "execution_count": 30,
   "id": "c3f04c72-363c-44ce-95fd-c64ebe69796f",
   "metadata": {},
   "outputs": [],
   "source": [
    "sefer_counter_20 = defaultdict(def_value)"
   ]
  },
  {
   "cell_type": "code",
   "execution_count": 31,
   "id": "54772650-b095-4b3f-a509-2adbc373eda7",
   "metadata": {},
   "outputs": [],
   "source": [
    "sefer_counter_21 = defaultdict(def_value)"
   ]
  },
  {
   "cell_type": "code",
   "execution_count": 33,
   "id": "13ae0d2d-0a49-4c1b-87a4-929ae45f5a37",
   "metadata": {},
   "outputs": [],
   "source": [
    "for row in df_20.itertuples():\n",
    "    semt_list=row.güzergah.split(' - ')\n",
    "    for k in semt_list:\n",
    "        sefer_counter_20[k]=sefer_counter_20[k]+row.toplam_sefer_adeti"
   ]
  },
  {
   "cell_type": "code",
   "execution_count": 42,
   "id": "ca7bafcc-37b2-423c-ad31-1696e971e38a",
   "metadata": {},
   "outputs": [],
   "source": [
    "for row in df_21.itertuples():\n",
    "    semt_list=row.güzergah.split(' - ')\n",
    "    for k in semt_list:\n",
    "        sefer_counter_21[k]=sefer_counter_21[k]+row.toplam_sefer_adeti"
   ]
  },
  {
   "cell_type": "code",
   "execution_count": 43,
   "id": "d3068d67-a77b-433f-b634-91daa141bdec",
   "metadata": {},
   "outputs": [],
   "source": [
    "sefer_counter_20_c=sefer_counter_20"
   ]
  },
  {
   "cell_type": "code",
   "execution_count": 44,
   "id": "74949b0b-0948-4e88-a7e4-7235ba7593c9",
   "metadata": {},
   "outputs": [],
   "source": [
    "sefer_counter_21_c=sefer_counter_21"
   ]
  },
  {
   "cell_type": "code",
   "execution_count": 49,
   "id": "c1189f75-ce39-42a3-a8e3-24a37f918d94",
   "metadata": {},
   "outputs": [],
   "source": [
    "del sefer_counter_20\n",
    "del sefer_counter_21\n",
    "sefer_counter_20={}\n",
    "sefer_counter_21={}"
   ]
  },
  {
   "cell_type": "code",
   "execution_count": 50,
   "id": "7a4dd22d-e08a-4cd7-ae62-feff9d9b8157",
   "metadata": {},
   "outputs": [],
   "source": [
    "for i in sefer_counter_20_c.items():\n",
    "    sefer_counter_20[i[0]]=i[1]"
   ]
  },
  {
   "cell_type": "code",
   "execution_count": 52,
   "id": "7d366611-b859-479e-a3ae-caeaa0c44c04",
   "metadata": {},
   "outputs": [],
   "source": [
    "for i in sefer_counter_21_c.items():\n",
    "    sefer_counter_21[i[0]]=i[1]"
   ]
  },
  {
   "cell_type": "code",
   "execution_count": 57,
   "id": "8161b993-20e2-4be3-b8f5-72844adc2879",
   "metadata": {},
   "outputs": [],
   "source": [
    "df=pd.DataFrame()\n",
    "\n",
    "df['station']=sefer_counter_20.keys()\n",
    "\n",
    "df['sefer_sayısı']=sefer_counter_20.values()\n",
    "\n",
    "df['yıl']=2020"
   ]
  },
  {
   "cell_type": "code",
   "execution_count": 62,
   "id": "5614e489-1604-4819-8b72-1a60cdc9a1d9",
   "metadata": {},
   "outputs": [
    {
     "data": {
      "text/html": [
       "<div>\n",
       "<style scoped>\n",
       "    .dataframe tbody tr th:only-of-type {\n",
       "        vertical-align: middle;\n",
       "    }\n",
       "\n",
       "    .dataframe tbody tr th {\n",
       "        vertical-align: top;\n",
       "    }\n",
       "\n",
       "    .dataframe thead th {\n",
       "        text-align: right;\n",
       "    }\n",
       "</style>\n",
       "<table border=\"1\" class=\"dataframe\">\n",
       "  <thead>\n",
       "    <tr style=\"text-align: right;\">\n",
       "      <th></th>\n",
       "      <th>station</th>\n",
       "      <th>sefer_sayısı</th>\n",
       "      <th>yıl</th>\n",
       "    </tr>\n",
       "  </thead>\n",
       "  <tbody>\n",
       "    <tr>\n",
       "      <th>0</th>\n",
       "      <td>BEŞİKTAŞ</td>\n",
       "      <td>1889.597</td>\n",
       "      <td>2020</td>\n",
       "    </tr>\n",
       "  </tbody>\n",
       "</table>\n",
       "</div>"
      ],
      "text/plain": [
       "    station  sefer_sayısı   yıl\n",
       "0  BEŞİKTAŞ      1889.597  2020"
      ]
     },
     "execution_count": 62,
     "metadata": {},
     "output_type": "execute_result"
    }
   ],
   "source": [
    "df.loc[df.sefer_sayısı==df.sefer_sayısı.max()]"
   ]
  },
  {
   "cell_type": "code",
   "execution_count": 63,
   "id": "4acc770a-c6c3-4e1b-91ae-f30013e0daa7",
   "metadata": {},
   "outputs": [],
   "source": [
    "df=pd.DataFrame()\n",
    "\n",
    "df['station']=sefer_counter_21.keys()\n",
    "\n",
    "df['sefer_sayısı']=sefer_counter_21.values()\n",
    "\n",
    "df['yıl']=2021"
   ]
  },
  {
   "cell_type": "code",
   "execution_count": 64,
   "id": "fdc5afc3-71a5-413c-8187-9dd47f438f02",
   "metadata": {},
   "outputs": [
    {
     "data": {
      "text/html": [
       "<div>\n",
       "<style scoped>\n",
       "    .dataframe tbody tr th:only-of-type {\n",
       "        vertical-align: middle;\n",
       "    }\n",
       "\n",
       "    .dataframe tbody tr th {\n",
       "        vertical-align: top;\n",
       "    }\n",
       "\n",
       "    .dataframe thead th {\n",
       "        text-align: right;\n",
       "    }\n",
       "</style>\n",
       "<table border=\"1\" class=\"dataframe\">\n",
       "  <thead>\n",
       "    <tr style=\"text-align: right;\">\n",
       "      <th></th>\n",
       "      <th>station</th>\n",
       "      <th>sefer_sayısı</th>\n",
       "      <th>yıl</th>\n",
       "    </tr>\n",
       "  </thead>\n",
       "  <tbody>\n",
       "    <tr>\n",
       "      <th>22</th>\n",
       "      <td>BEBEK-ANADOLU HİSARI-KANLICA-EMİRGAN</td>\n",
       "      <td>969.0</td>\n",
       "      <td>2021</td>\n",
       "    </tr>\n",
       "  </tbody>\n",
       "</table>\n",
       "</div>"
      ],
      "text/plain": [
       "                                 station  sefer_sayısı   yıl\n",
       "22  BEBEK-ANADOLU HİSARI-KANLICA-EMİRGAN         969.0  2021"
      ]
     },
     "execution_count": 64,
     "metadata": {},
     "output_type": "execute_result"
    }
   ],
   "source": [
    "df.loc[df.sefer_sayısı==df.sefer_sayısı.max()]"
   ]
  },
  {
   "cell_type": "code",
   "execution_count": 93,
   "id": "b3e50615-1bd6-473d-8394-0615b120bdcd",
   "metadata": {},
   "outputs": [],
   "source": [
    "### QUESTION 3"
   ]
  },
  {
   "cell_type": "code",
   "execution_count": 94,
   "id": "34344240-b552-4121-827c-8745a89890a2",
   "metadata": {},
   "outputs": [],
   "source": [
    "## The datasets contains number of passengers of ferry trips in Istanbul for each station and month"
   ]
  },
  {
   "cell_type": "code",
   "execution_count": 65,
   "id": "00c3104e-fb7a-46a5-ba22-b92a7e10b22f",
   "metadata": {},
   "outputs": [],
   "source": [
    "df_yolcu=pd.read_csv('istanbul-deniz-iskeleleri-yolcu-saylar.csv',encoding='iso8859_9',sep=';')"
   ]
  },
  {
   "cell_type": "code",
   "execution_count": 68,
   "id": "7805ff95-9695-4a4b-99b0-ce53b7e0d226",
   "metadata": {},
   "outputs": [
    {
     "data": {
      "text/html": [
       "<div>\n",
       "<style scoped>\n",
       "    .dataframe tbody tr th:only-of-type {\n",
       "        vertical-align: middle;\n",
       "    }\n",
       "\n",
       "    .dataframe tbody tr th {\n",
       "        vertical-align: top;\n",
       "    }\n",
       "\n",
       "    .dataframe thead th {\n",
       "        text-align: right;\n",
       "    }\n",
       "</style>\n",
       "<table border=\"1\" class=\"dataframe\">\n",
       "  <thead>\n",
       "    <tr style=\"text-align: right;\">\n",
       "      <th></th>\n",
       "      <th>Yil</th>\n",
       "      <th>Ay</th>\n",
       "      <th>Otorite Adi</th>\n",
       "      <th>Istasyon Adi</th>\n",
       "      <th>Yolcu Sayisi</th>\n",
       "    </tr>\n",
       "  </thead>\n",
       "  <tbody>\n",
       "    <tr>\n",
       "      <th>516</th>\n",
       "      <td>2021</td>\n",
       "      <td>10</td>\n",
       "      <td>DENTUR - AVRASYA DENİZ TAŞ.TUR.HİZ.İNŞ.SAN.TİC...</td>\n",
       "      <td>BESIKTAS</td>\n",
       "      <td>757374</td>\n",
       "    </tr>\n",
       "  </tbody>\n",
       "</table>\n",
       "</div>"
      ],
      "text/plain": [
       "      Yil  Ay                                        Otorite Adi Istasyon Adi  \\\n",
       "516  2021  10  DENTUR - AVRASYA DENİZ TAŞ.TUR.HİZ.İNŞ.SAN.TİC...     BESIKTAS   \n",
       "\n",
       "     Yolcu Sayisi  \n",
       "516        757374  "
      ]
     },
     "execution_count": 68,
     "metadata": {},
     "output_type": "execute_result"
    }
   ],
   "source": [
    "df_yolcu.loc[df_yolcu['Yolcu Sayisi']==df_yolcu['Yolcu Sayisi'].max()]"
   ]
  },
  {
   "cell_type": "code",
   "execution_count": 71,
   "id": "32cde2be-5f48-4c19-b106-0f7a9bad1091",
   "metadata": {},
   "outputs": [],
   "source": [
    "yolcu_sum_df=df_yolcu.groupby(['Istasyon Adi','Yil'])['Yolcu Sayisi'].max().to_frame()"
   ]
  },
  {
   "cell_type": "code",
   "execution_count": 72,
   "id": "aa21af1c-5460-463e-85d4-c3b8cc2e409b",
   "metadata": {},
   "outputs": [
    {
     "data": {
      "text/plain": [
       "Yil\n",
       "2021    757374\n",
       "Name: Yolcu Sayisi, dtype: int64"
      ]
     },
     "execution_count": 72,
     "metadata": {},
     "output_type": "execute_result"
    }
   ],
   "source": [
    "yolcu_sum_df.groupby('Yil')['Yolcu Sayisi'].max()"
   ]
  },
  {
   "cell_type": "code",
   "execution_count": 82,
   "id": "7811b957-1d08-4a10-bb02-6add0614cd05",
   "metadata": {},
   "outputs": [],
   "source": [
    "ay=df_yolcu.groupby('Ay')['Yolcu Sayisi'].max().index"
   ]
  },
  {
   "cell_type": "code",
   "execution_count": 80,
   "id": "3de8db8e-49f8-415b-9acd-aa96e9a006d6",
   "metadata": {},
   "outputs": [],
   "source": [
    "sayı=df_yolcu.groupby('Ay')['Yolcu Sayisi'].max().values"
   ]
  },
  {
   "cell_type": "code",
   "execution_count": 83,
   "id": "a2eb3d24-1a72-4d7b-b684-6e12765479f9",
   "metadata": {},
   "outputs": [
    {
     "data": {
      "text/html": [
       "<div>\n",
       "<style scoped>\n",
       "    .dataframe tbody tr th:only-of-type {\n",
       "        vertical-align: middle;\n",
       "    }\n",
       "\n",
       "    .dataframe tbody tr th {\n",
       "        vertical-align: top;\n",
       "    }\n",
       "\n",
       "    .dataframe thead th {\n",
       "        text-align: right;\n",
       "    }\n",
       "</style>\n",
       "<table border=\"1\" class=\"dataframe\">\n",
       "  <thead>\n",
       "    <tr style=\"text-align: right;\">\n",
       "      <th></th>\n",
       "      <th>Yil</th>\n",
       "      <th>Ay</th>\n",
       "      <th>Otorite Adi</th>\n",
       "      <th>Istasyon Adi</th>\n",
       "      <th>Yolcu Sayisi</th>\n",
       "    </tr>\n",
       "  </thead>\n",
       "  <tbody>\n",
       "    <tr>\n",
       "      <th>2</th>\n",
       "      <td>2021</td>\n",
       "      <td>3</td>\n",
       "      <td>DENTUR - AVRASYA DENİZ TAŞ.TUR.HİZ.İNŞ.SAN.TİC...</td>\n",
       "      <td>BESIKTAS</td>\n",
       "      <td>106334</td>\n",
       "    </tr>\n",
       "    <tr>\n",
       "      <th>72</th>\n",
       "      <td>2021</td>\n",
       "      <td>4</td>\n",
       "      <td>DENTUR - AVRASYA DENİZ TAŞ.TUR.HİZ.İNŞ.SAN.TİC...</td>\n",
       "      <td>BESIKTAS</td>\n",
       "      <td>274984</td>\n",
       "    </tr>\n",
       "    <tr>\n",
       "      <th>144</th>\n",
       "      <td>2021</td>\n",
       "      <td>5</td>\n",
       "      <td>DENTUR - AVRASYA DENİZ TAŞ.TUR.HİZ.İNŞ.SAN.TİC...</td>\n",
       "      <td>BESIKTAS</td>\n",
       "      <td>205662</td>\n",
       "    </tr>\n",
       "    <tr>\n",
       "      <th>214</th>\n",
       "      <td>2021</td>\n",
       "      <td>6</td>\n",
       "      <td>DENTUR - AVRASYA DENİZ TAŞ.TUR.HİZ.İNŞ.SAN.TİC...</td>\n",
       "      <td>BESIKTAS</td>\n",
       "      <td>488048</td>\n",
       "    </tr>\n",
       "    <tr>\n",
       "      <th>287</th>\n",
       "      <td>2021</td>\n",
       "      <td>7</td>\n",
       "      <td>DENTUR - AVRASYA DENİZ TAŞ.TUR.HİZ.İNŞ.SAN.TİC...</td>\n",
       "      <td>BESIKTAS</td>\n",
       "      <td>590792</td>\n",
       "    </tr>\n",
       "    <tr>\n",
       "      <th>363</th>\n",
       "      <td>2021</td>\n",
       "      <td>8</td>\n",
       "      <td>DENTUR - AVRASYA DENİZ TAŞ.TUR.HİZ.İNŞ.SAN.TİC...</td>\n",
       "      <td>BESIKTAS</td>\n",
       "      <td>601089</td>\n",
       "    </tr>\n",
       "    <tr>\n",
       "      <th>440</th>\n",
       "      <td>2021</td>\n",
       "      <td>9</td>\n",
       "      <td>DENTUR - AVRASYA DENİZ TAŞ.TUR.HİZ.İNŞ.SAN.TİC...</td>\n",
       "      <td>BESIKTAS</td>\n",
       "      <td>633355</td>\n",
       "    </tr>\n",
       "    <tr>\n",
       "      <th>516</th>\n",
       "      <td>2021</td>\n",
       "      <td>10</td>\n",
       "      <td>DENTUR - AVRASYA DENİZ TAŞ.TUR.HİZ.İNŞ.SAN.TİC...</td>\n",
       "      <td>BESIKTAS</td>\n",
       "      <td>757374</td>\n",
       "    </tr>\n",
       "    <tr>\n",
       "      <th>591</th>\n",
       "      <td>2021</td>\n",
       "      <td>11</td>\n",
       "      <td>DENTUR - AVRASYA DENİZ TAŞ.TUR.HİZ.İNŞ.SAN.TİC...</td>\n",
       "      <td>BESIKTAS</td>\n",
       "      <td>223286</td>\n",
       "    </tr>\n",
       "  </tbody>\n",
       "</table>\n",
       "</div>"
      ],
      "text/plain": [
       "      Yil  Ay                                        Otorite Adi Istasyon Adi  \\\n",
       "2    2021   3  DENTUR - AVRASYA DENİZ TAŞ.TUR.HİZ.İNŞ.SAN.TİC...     BESIKTAS   \n",
       "72   2021   4  DENTUR - AVRASYA DENİZ TAŞ.TUR.HİZ.İNŞ.SAN.TİC...     BESIKTAS   \n",
       "144  2021   5  DENTUR - AVRASYA DENİZ TAŞ.TUR.HİZ.İNŞ.SAN.TİC...     BESIKTAS   \n",
       "214  2021   6  DENTUR - AVRASYA DENİZ TAŞ.TUR.HİZ.İNŞ.SAN.TİC...     BESIKTAS   \n",
       "287  2021   7  DENTUR - AVRASYA DENİZ TAŞ.TUR.HİZ.İNŞ.SAN.TİC...     BESIKTAS   \n",
       "363  2021   8  DENTUR - AVRASYA DENİZ TAŞ.TUR.HİZ.İNŞ.SAN.TİC...     BESIKTAS   \n",
       "440  2021   9  DENTUR - AVRASYA DENİZ TAŞ.TUR.HİZ.İNŞ.SAN.TİC...     BESIKTAS   \n",
       "516  2021  10  DENTUR - AVRASYA DENİZ TAŞ.TUR.HİZ.İNŞ.SAN.TİC...     BESIKTAS   \n",
       "591  2021  11  DENTUR - AVRASYA DENİZ TAŞ.TUR.HİZ.İNŞ.SAN.TİC...     BESIKTAS   \n",
       "\n",
       "     Yolcu Sayisi  \n",
       "2          106334  \n",
       "72         274984  \n",
       "144        205662  \n",
       "214        488048  \n",
       "287        590792  \n",
       "363        601089  \n",
       "440        633355  \n",
       "516        757374  \n",
       "591        223286  "
      ]
     },
     "execution_count": 83,
     "metadata": {},
     "output_type": "execute_result"
    }
   ],
   "source": [
    "df_yolcu.loc[(df_yolcu['Ay'].isin(ay))&(df_yolcu['Yolcu Sayisi'].isin(sayı))]"
   ]
  }
 ],
 "metadata": {
  "kernelspec": {
   "display_name": "Python 3 (ipykernel)",
   "language": "python",
   "name": "python3"
  },
  "language_info": {
   "codemirror_mode": {
    "name": "ipython",
    "version": 3
   },
   "file_extension": ".py",
   "mimetype": "text/x-python",
   "name": "python",
   "nbconvert_exporter": "python",
   "pygments_lexer": "ipython3",
   "version": "3.8.8"
  }
 },
 "nbformat": 4,
 "nbformat_minor": 5
}
